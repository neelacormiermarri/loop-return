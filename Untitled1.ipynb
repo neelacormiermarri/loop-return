{
 "cells": [
  {
   "cell_type": "code",
   "execution_count": 4,
   "id": "411b2fc0",
   "metadata": {},
   "outputs": [
    {
     "name": "stdout",
     "output_type": "stream",
     "text": [
      "5\n"
     ]
    }
   ],
   "source": [
    "def test_func(x):\n",
    "    return x+1\n",
    "x=4\n",
    "print(test_func(x))"
   ]
  },
  {
   "cell_type": "code",
   "execution_count": 5,
   "id": "38465eab",
   "metadata": {},
   "outputs": [
    {
     "name": "stdout",
     "output_type": "stream",
     "text": [
      "5\n",
      "11\n",
      "12\n",
      "13\n",
      "14\n",
      "15\n"
     ]
    }
   ],
   "source": [
    "classmate_ages = [11, 12, 13, 14, 15]\n",
    "print(len(classmate_ages))\n",
    "\n",
    "for b in classmate_ages:\n",
    "    print(b)\n",
    "    if b == \"12\":\n",
    "       break\n"
   ]
  },
  {
   "cell_type": "code",
   "execution_count": null,
   "id": "e31b68c7",
   "metadata": {},
   "outputs": [],
   "source": []
  },
  {
   "cell_type": "code",
   "execution_count": null,
   "id": "bdaa877f",
   "metadata": {},
   "outputs": [],
   "source": []
  }
 ],
 "metadata": {
  "kernelspec": {
   "display_name": "Python 3 (ipykernel)",
   "language": "python",
   "name": "python3"
  },
  "language_info": {
   "codemirror_mode": {
    "name": "ipython",
    "version": 3
   },
   "file_extension": ".py",
   "mimetype": "text/x-python",
   "name": "python",
   "nbconvert_exporter": "python",
   "pygments_lexer": "ipython3",
   "version": "3.9.12"
  }
 },
 "nbformat": 4,
 "nbformat_minor": 5
}
